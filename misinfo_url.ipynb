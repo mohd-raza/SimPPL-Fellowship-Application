{
 "cells": [
  {
   "cell_type": "code",
   "execution_count": 1,
   "metadata": {},
   "outputs": [],
   "source": [
    "import pandas as pd\n",
    "import matplotlib.pyplot as plt\n",
    "import re"
   ]
  },
  {
   "cell_type": "code",
   "execution_count": 2,
   "metadata": {},
   "outputs": [],
   "source": [
    "df = pd.read_csv('misinfo_url.csv')"
   ]
  },
  {
   "cell_type": "code",
   "execution_count": 3,
   "metadata": {},
   "outputs": [],
   "source": [
    "link = df['url']"
   ]
  },
  {
   "cell_type": "code",
   "execution_count": 4,
   "metadata": {},
   "outputs": [
    {
     "data": {
      "text/plain": [
       "0     https://sputniknews.com/20220331/great-britain...\n",
       "1     https://www.rt.com/russia/553074-state-departm...\n",
       "2     https://sputniknews.com/20220331/hindu-group-m...\n",
       "3     https://sputniknews.com/20220331/norwegian-int...\n",
       "4     https://sputniknews.com/20220331/who-are-the-a...\n",
       "5     https://sputniknews.com/20220331/european-gas-...\n",
       "6     https://sputniknews.com/20220331/ukraine-threa...\n",
       "7     https://www.rt.com/sport/553040-world-cup-draw...\n",
       "8     https://www.rt.com/russia/553061-ukraine-defen...\n",
       "9     https://www.rt.com/russia/553050-ukraine-black...\n",
       "10    https://sputniknews.com/20220331/wests-sadomas...\n",
       "11    https://sputniknews.com/20220331/russian-mod-u...\n",
       "12    https://www.rt.com/russia/552885-ukraine-aid-b...\n",
       "13    https://sputniknews.com/20220331/zelensky-weig...\n",
       "14    https://sputniknews.com/20220331/us-president-...\n",
       "Name: url, dtype: object"
      ]
     },
     "execution_count": 4,
     "metadata": {},
     "output_type": "execute_result"
    }
   ],
   "source": [
    "link"
   ]
  },
  {
   "cell_type": "code",
   "execution_count": 6,
   "metadata": {},
   "outputs": [
    {
     "name": "stdout",
     "output_type": "stream",
     "text": [
      "RT.com URLs:\n",
      "https://www.rt.com/russia/553074-state-department-americans-leave-immediately/\n",
      "https://www.rt.com/sport/553040-world-cup-draw-ukraine-scotland-wales/\n",
      "https://www.rt.com/russia/553061-ukraine-defense-industry-russia/\n",
      "https://www.rt.com/russia/553050-ukraine-black-sea-mines/\n",
      "https://www.rt.com/russia/552885-ukraine-aid-bill-license-kill/\n",
      "\n",
      "Sputniknews.com URLs:\n",
      "https://sputniknews.com/20220331/great-britain-imposes-sanctions-against-sputniks-head-anton-anisimov-1094354237.html\n",
      "https://sputniknews.com/20220331/hindu-group-marches-to-support-russian-military-op-slams-zelensky-as-ukraines-no1-enemy---video-1094367263.html\n",
      "https://sputniknews.com/20220331/norwegian-intelligence-sees-no-alternatives-to-putin-1094346157.html\n",
      "https://sputniknews.com/20220331/who-are-the-americans-coordinating-bioweapons-research-in-ukraine-labs-1094370470.html\n",
      "https://sputniknews.com/20220331/european-gas-futures-reach-1450-per-cubic-metres-on-putins-statement-on-ruble-payments-1094360652.html\n",
      "https://sputniknews.com/20220331/ukraine-threatens-to-sink-any-foreign-ship-trying-to-leave-its-ports-russian-mod-says-1094355972.html\n",
      "https://sputniknews.com/20220331/wests-sadomasochism-why-anti-russia-sanctions-have-no-effect-but-to-inflict-pain-on-everyone-1094362481.html\n",
      "https://sputniknews.com/20220331/russian-mod-unveils-emails-showing-hunter-bidens-key-role-in-funding-pathogen-research-in-ukraine-1094360814.html\n",
      "https://sputniknews.com/20220331/zelensky-weighs-concessions-as-russia-pulls-out-of-kiev-1094343456.html\n",
      "https://sputniknews.com/20220331/us-president-biden-unveils-policy-on-lowering-gas-prices-1094362718.html\n"
     ]
    }
   ],
   "source": [
    "# Define regex patterns\n",
    "rt_pattern = re.compile(r'rt\\.com')\n",
    "sputniknews_pattern = re.compile(r'sputniknews\\.com')\n",
    "\n",
    "# Separate URLs into different variables\n",
    "rt_urls = [url for url in link if rt_pattern.search(url)]\n",
    "sputniknews_urls = [url for url in link if sputniknews_pattern.search(url)]\n",
    "\n",
    "# Display the results\n",
    "print(\"RT.com URLs:\")\n",
    "for rt_url in rt_urls:\n",
    "    print(rt_url)\n",
    "\n",
    "print(\"\\nSputniknews.com URLs:\")\n",
    "for sputniknews_url in sputniknews_urls:\n",
    "    print(sputniknews_url)"
   ]
  },
  {
   "cell_type": "code",
   "execution_count": 10,
   "metadata": {},
   "outputs": [
    {
     "data": {
      "image/png": "[encoded data removed]",
      "text/plain": [
       "<Figure size 640x480 with 1 Axes>"
      ]
     },
     "metadata": {},
     "output_type": "display_data"
    }
   ],
   "source": [
    "rt_count = len([url for url in link if rt_pattern.search(url)])\n",
    "sputniknews_count = len([url for url in link if sputniknews_pattern.search(url)])\n",
    "\n",
    "# Plot bar plot\n",
    "labels = ['rt.com', 'sputniknews.com']\n",
    "counts = [rt_count, sputniknews_count]\n",
    "\n",
    "plt.bar(labels, counts, color=['blue', 'green'])\n",
    "plt.xlabel('Website')\n",
    "plt.ylabel('Count')\n",
    "plt.title('URL Counts for rt.com and sputniknews.com')\n",
    "plt.show()"
   ]
  },
  {
   "cell_type": "code",
   "execution_count": null,
   "metadata": {},
   "outputs": [],
   "source": []
  }
 ],
 "metadata": {
  "kernelspec": {
   "display_name": "Python 3",
   "language": "python",
   "name": "python3"
  },
  "language_info": {
   "codemirror_mode": {
    "name": "ipython",
    "version": 3
   },
   "file_extension": ".py",
   "mimetype": "text/x-python",
   "name": "python",
   "nbconvert_exporter": "python",
   "pygments_lexer": "ipython3",
   "version": "3.11.5"
  }
 },
 "nbformat": 4,
 "nbformat_minor": 2
}
